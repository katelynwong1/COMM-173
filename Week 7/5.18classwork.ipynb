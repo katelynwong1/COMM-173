{
 "cells": [
  {
   "cell_type": "code",
   "execution_count": 1,
   "id": "0db50281",
   "metadata": {},
   "outputs": [],
   "source": [
    "from selenium import webdriver\n",
    "from selenium.webdriver.common.keys import Keys\n",
    "from selenium.webdriver.support.ui import WebDriverWait\n",
    "from selenium.webdriver.common.by import By\n",
    "from selenium.webdriver.support import expected_conditions as EC\n",
    "import pandas as pd\n",
    "import time\n"
   ]
  },
  {
   "cell_type": "code",
   "execution_count": 11,
   "id": "e82cd683",
   "metadata": {},
   "outputs": [],
   "source": [
    "df = pd.read_csv('comm173_youtube.csv')"
   ]
  },
  {
   "cell_type": "code",
   "execution_count": 12,
   "id": "6c5d597d",
   "metadata": {},
   "outputs": [
    {
     "name": "stdout",
     "output_type": "stream",
     "text": [
      "                                                  link   \n",
      "0    https://www.youtube.com/watch?v=3qTZnwRbFY0&pp...  \\\n",
      "1    https://www.youtube.com/watch?v=jBFMDZ5ugd4&pp...   \n",
      "2    https://www.youtube.com/watch?v=L_2jL8vNiNM&pp...   \n",
      "3    https://www.youtube.com/watch?v=gXjcwnEpILg&pp...   \n",
      "4    https://www.youtube.com/watch?v=3XDcNI31T2k&pp...   \n",
      "..                                                 ...   \n",
      "574  https://www.youtube.com/watch?v=PBQfw7ZIhmg&pp...   \n",
      "575  https://www.youtube.com/watch?v=Xt4ILWoarrA&pp...   \n",
      "576  https://www.youtube.com/watch?v=IELz64nzSbc&pp...   \n",
      "577  https://www.youtube.com/watch?v=Qx_3AAKmL4Y&pp...   \n",
      "578  https://www.youtube.com/watch?v=pkYBVG9p8Ao&pp...   \n",
      "\n",
      "                                                 title  description   \n",
      "0    This Is Why Costco Only Charges $5 For A Rotis...          NaN  \\\n",
      "1       Removing Meat from a Costco Rotisserie Chicken          NaN   \n",
      "2    The Big Problem Costco Shoppers Are Currently ...          NaN   \n",
      "3    Don't Eat Another Costco Rotisserie Chicken Un...          NaN   \n",
      "4    10 Easy Costco Chicken Dinners | Recipes You C...          NaN   \n",
      "..                                                 ...          ...   \n",
      "574  ONCE A MONTH GROCERY HAUL FOR OUR NOT SO LARGE...          NaN   \n",
      "575                                  Let's Make a Deal          NaN   \n",
      "576                   The Preston & Steve Show 5/09/23          NaN   \n",
      "577                         Cooking With The Chew Crew          NaN   \n",
      "578                      PEOPLE HAVING A CRAPPY DAY 25          NaN   \n",
      "\n",
      "           category  \n",
      "0    costco_chicken  \n",
      "1    costco_chicken  \n",
      "2    costco_chicken  \n",
      "3    costco_chicken  \n",
      "4    costco_chicken  \n",
      "..              ...  \n",
      "574  costco_chicken  \n",
      "575  costco_chicken  \n",
      "576  costco_chicken  \n",
      "577  costco_chicken  \n",
      "578  costco_chicken  \n",
      "\n",
      "[579 rows x 4 columns]\n"
     ]
    }
   ],
   "source": [
    "print(df)"
   ]
  },
  {
   "cell_type": "code",
   "execution_count": 13,
   "id": "364ff6ba",
   "metadata": {},
   "outputs": [
    {
     "data": {
      "text/html": [
       "<div>\n",
       "<style scoped>\n",
       "    .dataframe tbody tr th:only-of-type {\n",
       "        vertical-align: middle;\n",
       "    }\n",
       "\n",
       "    .dataframe tbody tr th {\n",
       "        vertical-align: top;\n",
       "    }\n",
       "\n",
       "    .dataframe thead th {\n",
       "        text-align: right;\n",
       "    }\n",
       "</style>\n",
       "<table border=\"1\" class=\"dataframe\">\n",
       "  <thead>\n",
       "    <tr style=\"text-align: right;\">\n",
       "      <th></th>\n",
       "      <th>link</th>\n",
       "      <th>title</th>\n",
       "      <th>description</th>\n",
       "      <th>category</th>\n",
       "    </tr>\n",
       "  </thead>\n",
       "  <tbody>\n",
       "    <tr>\n",
       "      <th>0</th>\n",
       "      <td>https://www.youtube.com/watch?v=3qTZnwRbFY0&amp;pp...</td>\n",
       "      <td>This Is Why Costco Only Charges $5 For A Rotis...</td>\n",
       "      <td>NaN</td>\n",
       "      <td>costco_chicken</td>\n",
       "    </tr>\n",
       "    <tr>\n",
       "      <th>1</th>\n",
       "      <td>https://www.youtube.com/watch?v=jBFMDZ5ugd4&amp;pp...</td>\n",
       "      <td>Removing Meat from a Costco Rotisserie Chicken</td>\n",
       "      <td>NaN</td>\n",
       "      <td>costco_chicken</td>\n",
       "    </tr>\n",
       "    <tr>\n",
       "      <th>2</th>\n",
       "      <td>https://www.youtube.com/watch?v=L_2jL8vNiNM&amp;pp...</td>\n",
       "      <td>The Big Problem Costco Shoppers Are Currently ...</td>\n",
       "      <td>NaN</td>\n",
       "      <td>costco_chicken</td>\n",
       "    </tr>\n",
       "    <tr>\n",
       "      <th>3</th>\n",
       "      <td>https://www.youtube.com/watch?v=gXjcwnEpILg&amp;pp...</td>\n",
       "      <td>Don't Eat Another Costco Rotisserie Chicken Un...</td>\n",
       "      <td>NaN</td>\n",
       "      <td>costco_chicken</td>\n",
       "    </tr>\n",
       "    <tr>\n",
       "      <th>4</th>\n",
       "      <td>https://www.youtube.com/watch?v=3XDcNI31T2k&amp;pp...</td>\n",
       "      <td>10 Easy Costco Chicken Dinners | Recipes You C...</td>\n",
       "      <td>NaN</td>\n",
       "      <td>costco_chicken</td>\n",
       "    </tr>\n",
       "    <tr>\n",
       "      <th>...</th>\n",
       "      <td>...</td>\n",
       "      <td>...</td>\n",
       "      <td>...</td>\n",
       "      <td>...</td>\n",
       "    </tr>\n",
       "    <tr>\n",
       "      <th>574</th>\n",
       "      <td>https://www.youtube.com/watch?v=PBQfw7ZIhmg&amp;pp...</td>\n",
       "      <td>ONCE A MONTH GROCERY HAUL FOR OUR NOT SO LARGE...</td>\n",
       "      <td>NaN</td>\n",
       "      <td>costco_chicken</td>\n",
       "    </tr>\n",
       "    <tr>\n",
       "      <th>575</th>\n",
       "      <td>https://www.youtube.com/watch?v=Xt4ILWoarrA&amp;pp...</td>\n",
       "      <td>Let's Make a Deal</td>\n",
       "      <td>NaN</td>\n",
       "      <td>costco_chicken</td>\n",
       "    </tr>\n",
       "    <tr>\n",
       "      <th>576</th>\n",
       "      <td>https://www.youtube.com/watch?v=IELz64nzSbc&amp;pp...</td>\n",
       "      <td>The Preston &amp; Steve Show 5/09/23</td>\n",
       "      <td>NaN</td>\n",
       "      <td>costco_chicken</td>\n",
       "    </tr>\n",
       "    <tr>\n",
       "      <th>577</th>\n",
       "      <td>https://www.youtube.com/watch?v=Qx_3AAKmL4Y&amp;pp...</td>\n",
       "      <td>Cooking With The Chew Crew</td>\n",
       "      <td>NaN</td>\n",
       "      <td>costco_chicken</td>\n",
       "    </tr>\n",
       "    <tr>\n",
       "      <th>578</th>\n",
       "      <td>https://www.youtube.com/watch?v=pkYBVG9p8Ao&amp;pp...</td>\n",
       "      <td>PEOPLE HAVING A CRAPPY DAY 25</td>\n",
       "      <td>NaN</td>\n",
       "      <td>costco_chicken</td>\n",
       "    </tr>\n",
       "  </tbody>\n",
       "</table>\n",
       "<p>371 rows × 4 columns</p>\n",
       "</div>"
      ],
      "text/plain": [
       "                                                  link   \n",
       "0    https://www.youtube.com/watch?v=3qTZnwRbFY0&pp...  \\\n",
       "1    https://www.youtube.com/watch?v=jBFMDZ5ugd4&pp...   \n",
       "2    https://www.youtube.com/watch?v=L_2jL8vNiNM&pp...   \n",
       "3    https://www.youtube.com/watch?v=gXjcwnEpILg&pp...   \n",
       "4    https://www.youtube.com/watch?v=3XDcNI31T2k&pp...   \n",
       "..                                                 ...   \n",
       "574  https://www.youtube.com/watch?v=PBQfw7ZIhmg&pp...   \n",
       "575  https://www.youtube.com/watch?v=Xt4ILWoarrA&pp...   \n",
       "576  https://www.youtube.com/watch?v=IELz64nzSbc&pp...   \n",
       "577  https://www.youtube.com/watch?v=Qx_3AAKmL4Y&pp...   \n",
       "578  https://www.youtube.com/watch?v=pkYBVG9p8Ao&pp...   \n",
       "\n",
       "                                                 title  description   \n",
       "0    This Is Why Costco Only Charges $5 For A Rotis...          NaN  \\\n",
       "1       Removing Meat from a Costco Rotisserie Chicken          NaN   \n",
       "2    The Big Problem Costco Shoppers Are Currently ...          NaN   \n",
       "3    Don't Eat Another Costco Rotisserie Chicken Un...          NaN   \n",
       "4    10 Easy Costco Chicken Dinners | Recipes You C...          NaN   \n",
       "..                                                 ...          ...   \n",
       "574  ONCE A MONTH GROCERY HAUL FOR OUR NOT SO LARGE...          NaN   \n",
       "575                                  Let's Make a Deal          NaN   \n",
       "576                   The Preston & Steve Show 5/09/23          NaN   \n",
       "577                         Cooking With The Chew Crew          NaN   \n",
       "578                      PEOPLE HAVING A CRAPPY DAY 25          NaN   \n",
       "\n",
       "           category  \n",
       "0    costco_chicken  \n",
       "1    costco_chicken  \n",
       "2    costco_chicken  \n",
       "3    costco_chicken  \n",
       "4    costco_chicken  \n",
       "..              ...  \n",
       "574  costco_chicken  \n",
       "575  costco_chicken  \n",
       "576  costco_chicken  \n",
       "577  costco_chicken  \n",
       "578  costco_chicken  \n",
       "\n",
       "[371 rows x 4 columns]"
      ]
     },
     "execution_count": 13,
     "metadata": {},
     "output_type": "execute_result"
    }
   ],
   "source": [
    "df[~df.link.str.contains(\"/shorts\")]"
   ]
  },
  {
   "cell_type": "code",
   "execution_count": 14,
   "id": "b045f034",
   "metadata": {},
   "outputs": [],
   "source": [
    "df_2 = df[~df.link.str.contains(\"/shorts\")]"
   ]
  },
  {
   "cell_type": "code",
   "execution_count": 18,
   "id": "dcf2064e",
   "metadata": {},
   "outputs": [
    {
     "name": "stderr",
     "output_type": "stream",
     "text": [
      "/var/folders/3l/682x0z_16p5gngb4z1mctltw0000gn/T/ipykernel_98165/1243937836.py:1: DeprecationWarning: executable_path has been deprecated, please pass in a Service object\n",
      "  driver = webdriver.Chrome(('/Users/katelynwong/Documents/COMM-173/chromedriver'))\n"
     ]
    }
   ],
   "source": [
    "driver = webdriver.Chrome(('/Users/katelynwong/Documents/COMM-173/chromedriver'))"
   ]
  },
  {
   "cell_type": "code",
   "execution_count": 19,
   "id": "2db6a165",
   "metadata": {},
   "outputs": [],
   "source": [
    "driver.maximize_window()\n",
    "driver.implicitly_wait(20)"
   ]
  },
  {
   "cell_type": "code",
   "execution_count": 20,
   "id": "60f33c02",
   "metadata": {},
   "outputs": [],
   "source": [
    "comments = []\n",
    "comment_likes = []"
   ]
  },
  {
   "cell_type": "code",
   "execution_count": 21,
   "id": "a221beaf",
   "metadata": {},
   "outputs": [],
   "source": [
    "def scroll_to_bottom(driver):\n",
    "    old_position = 0\n",
    "    new_position = None\n",
    "    scroll_distance = 500\n",
    "    \n",
    "    while (new_position != old_position):\n",
    "        # Get old scroll position\n",
    "        old_position = driver.execute_script((\"return (window.pageYOffset !== undefined) ?\"\n",
    "                                            \" window.pageYOffset : (document.documentElement ||\"\n",
    "                                            \" document.body.parentNode || document.body);\"))\n",
    "        # Sleep and scroll\n",
    "        time.sleep(5)\n",
    "        driver.execute_script((\"var scrollingElement = (document.scrollingElement ||\"\n",
    "                              \" document.body);scrollingElement.scrollTop = \"\n",
    "                              \" scrollingElement.scrollHeight\"))\n",
    "        \n",
    "        time.sleep(5)\n",
    "        # Get new position\n",
    "        new_position = driver.execute_script((\"return (window.pageYOffset !== undefined) ?\"\n",
    "                                             \" window.pageYOffset : (document.documentElement ||\"\n",
    "                                             \" document.body.parentNode || documentBody);\"))"
   ]
  },
  {
   "cell_type": "code",
   "execution_count": 22,
   "id": "b332e44a",
   "metadata": {},
   "outputs": [
    {
     "ename": "KeyboardInterrupt",
     "evalue": "",
     "output_type": "error",
     "traceback": [
      "\u001b[0;31m---------------------------------------------------------------------------\u001b[0m",
      "\u001b[0;31mKeyboardInterrupt\u001b[0m                         Traceback (most recent call last)",
      "Cell \u001b[0;32mIn[22], line 10\u001b[0m\n\u001b[1;32m      7\u001b[0m wait \u001b[38;5;241m=\u001b[39m WebDriverWait(driver, \u001b[38;5;241m10\u001b[39m)\n\u001b[1;32m      8\u001b[0m wait\u001b[38;5;241m.\u001b[39muntil(EC\u001b[38;5;241m.\u001b[39mpresence_of_element_located((By\u001b[38;5;241m.\u001b[39mCSS_SELECTOR, \u001b[38;5;124m'\u001b[39m\u001b[38;5;124m#comments #content-text\u001b[39m\u001b[38;5;124m'\u001b[39m)))\n\u001b[0;32m---> 10\u001b[0m \u001b[43mscroll_to_bottom\u001b[49m\u001b[43m(\u001b[49m\u001b[43mdriver\u001b[49m\u001b[43m)\u001b[49m\n\u001b[1;32m     12\u001b[0m time\u001b[38;5;241m.\u001b[39msleep(\u001b[38;5;241m2\u001b[39m)\n\u001b[1;32m     14\u001b[0m \u001b[38;5;66;03m# Get the comment and comment like elements and extract their text\u001b[39;00m\n",
      "Cell \u001b[0;32mIn[21], line 12\u001b[0m, in \u001b[0;36mscroll_to_bottom\u001b[0;34m(driver)\u001b[0m\n\u001b[1;32m      8\u001b[0m old_position \u001b[38;5;241m=\u001b[39m driver\u001b[38;5;241m.\u001b[39mexecute_script((\u001b[38;5;124m\"\u001b[39m\u001b[38;5;124mreturn (window.pageYOffset !== undefined) ?\u001b[39m\u001b[38;5;124m\"\u001b[39m\n\u001b[1;32m      9\u001b[0m                                     \u001b[38;5;124m\"\u001b[39m\u001b[38;5;124m window.pageYOffset : (document.documentElement ||\u001b[39m\u001b[38;5;124m\"\u001b[39m\n\u001b[1;32m     10\u001b[0m                                     \u001b[38;5;124m\"\u001b[39m\u001b[38;5;124m document.body.parentNode || document.body);\u001b[39m\u001b[38;5;124m\"\u001b[39m))\n\u001b[1;32m     11\u001b[0m \u001b[38;5;66;03m# Sleep and scroll\u001b[39;00m\n\u001b[0;32m---> 12\u001b[0m time\u001b[38;5;241m.\u001b[39msleep(\u001b[38;5;241m5\u001b[39m)\n\u001b[1;32m     13\u001b[0m driver\u001b[38;5;241m.\u001b[39mexecute_script((\u001b[38;5;124m\"\u001b[39m\u001b[38;5;124mvar scrollingElement = (document.scrollingElement ||\u001b[39m\u001b[38;5;124m\"\u001b[39m\n\u001b[1;32m     14\u001b[0m                       \u001b[38;5;124m\"\u001b[39m\u001b[38;5;124m document.body);scrollingElement.scrollTop = \u001b[39m\u001b[38;5;124m\"\u001b[39m\n\u001b[1;32m     15\u001b[0m                       \u001b[38;5;124m\"\u001b[39m\u001b[38;5;124m scrollingElement.scrollHeight\u001b[39m\u001b[38;5;124m\"\u001b[39m))\n\u001b[1;32m     17\u001b[0m time\u001b[38;5;241m.\u001b[39msleep(\u001b[38;5;241m5\u001b[39m)\n",
      "\u001b[0;31mKeyboardInterrupt\u001b[0m: "
     ]
    }
   ],
   "source": [
    "# Loop through the rows in the dataframe\n",
    "for index, row in df_2.iterrows():\n",
    "    # Navigate to the YouTube video page\n",
    "    driver.get(row['link'])\n",
    "\n",
    "    # Wait for the comments to load\n",
    "    wait = WebDriverWait(driver, 10)\n",
    "    wait.until(EC.presence_of_element_located((By.CSS_SELECTOR, '#comments #content-text')))\n",
    "    \n",
    "    scroll_to_bottom(driver)\n",
    "    \n",
    "    time.sleep(2)\n",
    "\n",
    "    # Get the comment and comment like elements and extract their text\n",
    "    comment_elems = driver.find_elements(By.CSS_SELECTOR,'#comments #content-text')\n",
    "    comment_like_elems = driver.find_elements(By.CSS_SELECTOR,'#comments #vote-count-middle')\n",
    "    comment_text = [elem.text for elem in comment_elems]\n",
    "    comment_like_text = [elem.text for elem in comment_like_elems]\n",
    "\n",
    "    # Append the comment and comment like text to the corresponding lists\n",
    "    for i in range(len(comment_text)):\n",
    "        comments.append([row['link'], row['title'], comment_text[i]])\n",
    "        comment_likes.append([row['link'], row['title'], comment_text[i], comment_like_text[i]])"
   ]
  },
  {
   "cell_type": "code",
   "execution_count": null,
   "id": "63244489",
   "metadata": {},
   "outputs": [],
   "source": [
    "driver.quit()"
   ]
  },
  {
   "cell_type": "code",
   "execution_count": 23,
   "id": "0177209e",
   "metadata": {},
   "outputs": [],
   "source": [
    "comments_df = pd.DataFrame(comments, columns=['Link', 'Title', 'Comment'])\n",
    "comment_likes_df = pd.DataFrame(comment_likes, columns=['Link', 'Title', 'Comment', 'Likes'])"
   ]
  },
  {
   "cell_type": "code",
   "execution_count": 24,
   "id": "15554953",
   "metadata": {},
   "outputs": [],
   "source": [
    "comments_df.to_csv('video_comments.csv', index=False)\n",
    "comment_likes_df.to_csv('video_comment_likes.csv', index=False)"
   ]
  },
  {
   "cell_type": "code",
   "execution_count": null,
   "id": "2ef8dff3",
   "metadata": {},
   "outputs": [],
   "source": []
  }
 ],
 "metadata": {
  "kernelspec": {
   "display_name": "Python 3 (ipykernel)",
   "language": "python",
   "name": "python3"
  },
  "language_info": {
   "codemirror_mode": {
    "name": "ipython",
    "version": 3
   },
   "file_extension": ".py",
   "mimetype": "text/x-python",
   "name": "python",
   "nbconvert_exporter": "python",
   "pygments_lexer": "ipython3",
   "version": "3.11.3"
  }
 },
 "nbformat": 4,
 "nbformat_minor": 5
}
